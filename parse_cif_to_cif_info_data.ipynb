{
 "cells": [
  {
   "cell_type": "code",
   "execution_count": 1,
   "metadata": {},
   "outputs": [],
   "source": [
    "import os\n",
    "import sys\n",
    "import numpy as np\n",
    "import pandas as pd"
   ]
  },
  {
   "cell_type": "code",
   "execution_count": 36,
   "metadata": {},
   "outputs": [],
   "source": [
    "import ase.io as aio"
   ]
  },
  {
   "cell_type": "code",
   "execution_count": 14,
   "metadata": {},
   "outputs": [],
   "source": [
    "path = 'C:\\\\python\\\\xtal_data\\\\new_7_class'"
   ]
  },
  {
   "cell_type": "code",
   "execution_count": 288,
   "metadata": {},
   "outputs": [],
   "source": [
    "def get_pd(folder):\n",
    "    \"\"\"\n",
    "    make_cif_information_list\n",
    "    work for materials project .cif file type with have only one bracket\n",
    "    \"\"\"\n",
    "    path_det = os.path.join(path, str(folder) )\n",
    "    temp = os.listdir(path_det)\n",
    "    \n",
    "    tot_val = []\n",
    "    for i in temp:\n",
    "        now_atom = aio.read(os.path.join(path_det,i))\n",
    "        temp_list = [now_atom.todict()['info']['spacegroup'].no]\n",
    "        temp_list = temp_list + i.split('_')[0:2]\n",
    "        temp_list.append(main(temp_list[1]))\n",
    "        temp_list.append(len(now_atom.arrays['numbers']))\n",
    "        tot_val.append(temp_list)\n",
    "    tt = pd.DataFrame(tot_val)\n",
    "    tt.to_csv(str(folder) +'.csv', sep= ',')\n",
    "    return tot_val\n",
    "\n",
    "def separate_atom(molcule_name):\n",
    "    \"\"\"\n",
    "    take bracket free molcule name and return each atoms and atomnumber\n",
    "    \"\"\"\n",
    "    tp = []\n",
    "    for i in range(len(molcule_name)):\n",
    "        if molcule_name[i].isupper():\n",
    "            tp.append(i)\n",
    "    tp.append(3000)\n",
    "    each_atom = []\n",
    "    for i in range(len(tp)-1):\n",
    "        each_atom.append(molcule_name[tp[i]:tp[i+1]])\n",
    "    return each_atom\n",
    "\n",
    "\n",
    "def devide_bra (fullname):\n",
    "    \"\"\"\n",
    "    devide bracket from molecule name\n",
    "    only work for one bracket\n",
    "    \"\"\"\n",
    "    pos = []\n",
    "    for i in range(len(fullname)):\n",
    "        if fullname[i] == '(':\n",
    "            pos.append(i)\n",
    "        if fullname[i] == ')':\n",
    "            for k in range(len(fullname[i:])):\n",
    "                if fullname[i:][k].isupper():\n",
    "                    pos.append(i+k)\n",
    "                    break\n",
    "            pos.append(3000)\n",
    "    return pos\n",
    "\n",
    "def check(at):\n",
    "    \"\"\"\n",
    "    get atomname with number, return atomnumber\n",
    "    \"\"\"\n",
    "    for i in range(len(at)):\n",
    "        if not (at[i].isupper() or at[i].islower()):\n",
    "            return(int(at[i:]))\n",
    "    return 1\n",
    "\n",
    "def check_bra(bracket):\n",
    "    \"\"\"\n",
    "    check bracket end point\n",
    "    \"\"\"\n",
    "    for i in range(len(bracket)):\n",
    "        if bracket[i] == ')':\n",
    "            return i\n",
    "\n",
    "def main(fullname):\n",
    "    ss = devide_bra(fullname)\n",
    "    if ss:\n",
    "        other = fullname[0:ss[0]] + fullname[ss[1]:]\n",
    "        bra = fullname[ss[0]:ss[1]]\n",
    "\n",
    "        other_numb = separate_atom(other)\n",
    "        other_fin = []\n",
    "        for i in other_numb:\n",
    "            other_fin.append(check(i))\n",
    "        other_fin.sort()\n",
    "\n",
    "\n",
    "        bra_numb = separate_atom(bra[1:check_bra(bra)])\n",
    "        bra_med = []\n",
    "        for i in bra_numb:\n",
    "            bra_med.append(check(i))\n",
    "        bra_med.sort()\n",
    "        bra_fin = str(tuple(bra_med))+bra[check_bra(bra)+1:]\n",
    "        other_fin.append(bra_fin)\n",
    "        return other_fin\n",
    "    else:\n",
    "        other_numb = separate_atom(fullname)\n",
    "        other_fin = []\n",
    "        for i in other_numb:\n",
    "            other_fin.append(check(i))\n",
    "        other_fin.sort()\n",
    "        return other_fin"
   ]
  },
  {
   "cell_type": "code",
   "execution_count": null,
   "metadata": {},
   "outputs": [],
   "source": []
  },
  {
   "cell_type": "code",
   "execution_count": null,
   "metadata": {},
   "outputs": [],
   "source": []
  },
  {
   "cell_type": "code",
   "execution_count": null,
   "metadata": {},
   "outputs": [],
   "source": []
  },
  {
   "cell_type": "code",
   "execution_count": null,
   "metadata": {},
   "outputs": [],
   "source": []
  }
 ],
 "metadata": {
  "kernelspec": {
   "display_name": "Python 3",
   "language": "python",
   "name": "python3"
  },
  "language_info": {
   "codemirror_mode": {
    "name": "ipython",
    "version": 3
   },
   "file_extension": ".py",
   "mimetype": "text/x-python",
   "name": "python",
   "nbconvert_exporter": "python",
   "pygments_lexer": "ipython3",
   "version": "3.7.0"
  }
 },
 "nbformat": 4,
 "nbformat_minor": 4
}
